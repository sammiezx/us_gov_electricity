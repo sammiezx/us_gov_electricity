{
 "cells": [
  {
   "cell_type": "code",
   "execution_count": 73,
   "metadata": {},
   "outputs": [],
   "source": [
    "import requests\n",
    "import pandas as pd\n",
    "\n",
    "def hit_gov_data(start_date='2001-01', end_date='2023-01', offset=0, length=5000, api_key=\"YFxmf9XXnim4IBQnrbFuV2QgJDObwYaxzEabiH4b\"):\n",
    "\n",
    "    api_url = f\"https://api.eia.gov/v2/electricity/retail-sales/data/?api_key={api_key}&frequency=monthly&data[0]=customers&data[1]=price&data[2]=revenue&data[3]=sales&start={start_date}&end={end_date}&sort[0][column]=period&sort[0][direction]=desc&offset={offset}&length={length}\"\n",
    "    # api_url = \"https://api.eia.gov/v2/electricity/retail-sales/data/?frequency=monthly&data[0]=customers&data[1]=price&data[2]=revenue&data[3]=sales&sort[0][column]=period&sort[0][direction]=desc&offset=0&length=5000\"\n",
    "    response = requests.get(api_url)\n",
    "    if response.status_code == 200:\n",
    "        return pd.DataFrame(response.json()['response']['data'])\n",
    "    else:\n",
    "        raise Exception(\"ISSUE HITTING US GOVERMENT DATA API\")"
   ]
  },
  {
   "cell_type": "code",
   "execution_count": 74,
   "metadata": {},
   "outputs": [],
   "source": [
    "df = hit_gov_data(offset=0, length=5000, end_date='2024-01')"
   ]
  },
  {
   "cell_type": "code",
   "execution_count": 75,
   "metadata": {},
   "outputs": [
    {
     "data": {
      "text/plain": [
       "period                0\n",
       "stateid               0\n",
       "stateDescription      0\n",
       "sectorid              0\n",
       "sectorName            0\n",
       "customers           833\n",
       "price               833\n",
       "revenue             833\n",
       "sales               833\n",
       "customers-units       0\n",
       "price-units           0\n",
       "revenue-units         0\n",
       "sales-units           0\n",
       "dtype: int64"
      ]
     },
     "execution_count": 75,
     "metadata": {},
     "output_type": "execute_result"
    }
   ],
   "source": [
    "df.isna().sum()"
   ]
  },
  {
   "cell_type": "code",
   "execution_count": 76,
   "metadata": {},
   "outputs": [
    {
     "data": {
      "text/html": [
       "<div>\n",
       "<style scoped>\n",
       "    .dataframe tbody tr th:only-of-type {\n",
       "        vertical-align: middle;\n",
       "    }\n",
       "\n",
       "    .dataframe tbody tr th {\n",
       "        vertical-align: top;\n",
       "    }\n",
       "\n",
       "    .dataframe thead th {\n",
       "        text-align: right;\n",
       "    }\n",
       "</style>\n",
       "<table border=\"1\" class=\"dataframe\">\n",
       "  <thead>\n",
       "    <tr style=\"text-align: right;\">\n",
       "      <th></th>\n",
       "      <th>period</th>\n",
       "      <th>stateid</th>\n",
       "      <th>stateDescription</th>\n",
       "      <th>sectorid</th>\n",
       "      <th>sectorName</th>\n",
       "      <th>customers</th>\n",
       "      <th>price</th>\n",
       "      <th>revenue</th>\n",
       "      <th>sales</th>\n",
       "      <th>customers-units</th>\n",
       "      <th>price-units</th>\n",
       "      <th>revenue-units</th>\n",
       "      <th>sales-units</th>\n",
       "    </tr>\n",
       "  </thead>\n",
       "  <tbody>\n",
       "    <tr>\n",
       "      <th>0</th>\n",
       "      <td>2023-09</td>\n",
       "      <td>MD</td>\n",
       "      <td>Maryland</td>\n",
       "      <td>RES</td>\n",
       "      <td>residential</td>\n",
       "      <td>2431160.0</td>\n",
       "      <td>16.96</td>\n",
       "      <td>375.82097</td>\n",
       "      <td>2215.58311</td>\n",
       "      <td>number of customers</td>\n",
       "      <td>cents per kilowatthour</td>\n",
       "      <td>million dollars</td>\n",
       "      <td>million kilowatthours</td>\n",
       "    </tr>\n",
       "    <tr>\n",
       "      <th>663</th>\n",
       "      <td>2023-08</td>\n",
       "      <td>MD</td>\n",
       "      <td>Maryland</td>\n",
       "      <td>RES</td>\n",
       "      <td>residential</td>\n",
       "      <td>2429658.0</td>\n",
       "      <td>16.35</td>\n",
       "      <td>431.98451</td>\n",
       "      <td>2642.54595</td>\n",
       "      <td>number of customers</td>\n",
       "      <td>cents per kilowatthour</td>\n",
       "      <td>million dollars</td>\n",
       "      <td>million kilowatthours</td>\n",
       "    </tr>\n",
       "    <tr>\n",
       "      <th>806</th>\n",
       "      <td>2023-07</td>\n",
       "      <td>MD</td>\n",
       "      <td>Maryland</td>\n",
       "      <td>RES</td>\n",
       "      <td>residential</td>\n",
       "      <td>2428046.0</td>\n",
       "      <td>16.03</td>\n",
       "      <td>463.06933</td>\n",
       "      <td>2887.89109</td>\n",
       "      <td>number of customers</td>\n",
       "      <td>cents per kilowatthour</td>\n",
       "      <td>million dollars</td>\n",
       "      <td>million kilowatthours</td>\n",
       "    </tr>\n",
       "    <tr>\n",
       "      <th>1153</th>\n",
       "      <td>2023-06</td>\n",
       "      <td>MD</td>\n",
       "      <td>Maryland</td>\n",
       "      <td>RES</td>\n",
       "      <td>residential</td>\n",
       "      <td>2427170.0</td>\n",
       "      <td>16.99</td>\n",
       "      <td>334.54401</td>\n",
       "      <td>1969.06761</td>\n",
       "      <td>number of customers</td>\n",
       "      <td>cents per kilowatthour</td>\n",
       "      <td>million dollars</td>\n",
       "      <td>million kilowatthours</td>\n",
       "    </tr>\n",
       "    <tr>\n",
       "      <th>1786</th>\n",
       "      <td>2023-05</td>\n",
       "      <td>MD</td>\n",
       "      <td>Maryland</td>\n",
       "      <td>RES</td>\n",
       "      <td>residential</td>\n",
       "      <td>2426004.0</td>\n",
       "      <td>16.08</td>\n",
       "      <td>267.50220</td>\n",
       "      <td>1663.98981</td>\n",
       "      <td>number of customers</td>\n",
       "      <td>cents per kilowatthour</td>\n",
       "      <td>million dollars</td>\n",
       "      <td>million kilowatthours</td>\n",
       "    </tr>\n",
       "    <tr>\n",
       "      <th>2083</th>\n",
       "      <td>2023-04</td>\n",
       "      <td>MD</td>\n",
       "      <td>Maryland</td>\n",
       "      <td>RES</td>\n",
       "      <td>residential</td>\n",
       "      <td>2425944.0</td>\n",
       "      <td>15.91</td>\n",
       "      <td>274.87139</td>\n",
       "      <td>1727.16111</td>\n",
       "      <td>number of customers</td>\n",
       "      <td>cents per kilowatthour</td>\n",
       "      <td>million dollars</td>\n",
       "      <td>million kilowatthours</td>\n",
       "    </tr>\n",
       "    <tr>\n",
       "      <th>2578</th>\n",
       "      <td>2023-03</td>\n",
       "      <td>MD</td>\n",
       "      <td>Maryland</td>\n",
       "      <td>RES</td>\n",
       "      <td>residential</td>\n",
       "      <td>2426467.0</td>\n",
       "      <td>15.85</td>\n",
       "      <td>348.56671</td>\n",
       "      <td>2199.67197</td>\n",
       "      <td>number of customers</td>\n",
       "      <td>cents per kilowatthour</td>\n",
       "      <td>million dollars</td>\n",
       "      <td>million kilowatthours</td>\n",
       "    </tr>\n",
       "    <tr>\n",
       "      <th>2936</th>\n",
       "      <td>2023-02</td>\n",
       "      <td>MD</td>\n",
       "      <td>Maryland</td>\n",
       "      <td>RES</td>\n",
       "      <td>residential</td>\n",
       "      <td>2423960.0</td>\n",
       "      <td>16.21</td>\n",
       "      <td>357.64479</td>\n",
       "      <td>2206.17096</td>\n",
       "      <td>number of customers</td>\n",
       "      <td>cents per kilowatthour</td>\n",
       "      <td>million dollars</td>\n",
       "      <td>million kilowatthours</td>\n",
       "    </tr>\n",
       "    <tr>\n",
       "      <th>3270</th>\n",
       "      <td>2023-01</td>\n",
       "      <td>MD</td>\n",
       "      <td>Maryland</td>\n",
       "      <td>RES</td>\n",
       "      <td>residential</td>\n",
       "      <td>2421516.0</td>\n",
       "      <td>15.97</td>\n",
       "      <td>401.98277</td>\n",
       "      <td>2516.41400</td>\n",
       "      <td>number of customers</td>\n",
       "      <td>cents per kilowatthour</td>\n",
       "      <td>million dollars</td>\n",
       "      <td>million kilowatthours</td>\n",
       "    </tr>\n",
       "    <tr>\n",
       "      <th>3656</th>\n",
       "      <td>2022-12</td>\n",
       "      <td>MD</td>\n",
       "      <td>Maryland</td>\n",
       "      <td>RES</td>\n",
       "      <td>residential</td>\n",
       "      <td>2424156.0</td>\n",
       "      <td>15.53</td>\n",
       "      <td>436.30499</td>\n",
       "      <td>2809.69318</td>\n",
       "      <td>number of customers</td>\n",
       "      <td>cents per kilowatthour</td>\n",
       "      <td>million dollars</td>\n",
       "      <td>million kilowatthours</td>\n",
       "    </tr>\n",
       "    <tr>\n",
       "      <th>3918</th>\n",
       "      <td>2022-11</td>\n",
       "      <td>MD</td>\n",
       "      <td>Maryland</td>\n",
       "      <td>RES</td>\n",
       "      <td>residential</td>\n",
       "      <td>2423091.0</td>\n",
       "      <td>15.37</td>\n",
       "      <td>299.52767</td>\n",
       "      <td>1948.47268</td>\n",
       "      <td>number of customers</td>\n",
       "      <td>cents per kilowatthour</td>\n",
       "      <td>million dollars</td>\n",
       "      <td>million kilowatthours</td>\n",
       "    </tr>\n",
       "    <tr>\n",
       "      <th>4311</th>\n",
       "      <td>2022-10</td>\n",
       "      <td>MD</td>\n",
       "      <td>Maryland</td>\n",
       "      <td>RES</td>\n",
       "      <td>residential</td>\n",
       "      <td>2420843.0</td>\n",
       "      <td>15.84</td>\n",
       "      <td>271.01551</td>\n",
       "      <td>1711.10053</td>\n",
       "      <td>number of customers</td>\n",
       "      <td>cents per kilowatthour</td>\n",
       "      <td>million dollars</td>\n",
       "      <td>million kilowatthours</td>\n",
       "    </tr>\n",
       "    <tr>\n",
       "      <th>4695</th>\n",
       "      <td>2022-09</td>\n",
       "      <td>MD</td>\n",
       "      <td>Maryland</td>\n",
       "      <td>RES</td>\n",
       "      <td>residential</td>\n",
       "      <td>2418685.0</td>\n",
       "      <td>14.55</td>\n",
       "      <td>299.98256</td>\n",
       "      <td>2061.56355</td>\n",
       "      <td>number of customers</td>\n",
       "      <td>cents per kilowatthour</td>\n",
       "      <td>million dollars</td>\n",
       "      <td>million kilowatthours</td>\n",
       "    </tr>\n",
       "  </tbody>\n",
       "</table>\n",
       "</div>"
      ],
      "text/plain": [
       "       period stateid stateDescription sectorid   sectorName  customers  \\\n",
       "0     2023-09      MD         Maryland      RES  residential  2431160.0   \n",
       "663   2023-08      MD         Maryland      RES  residential  2429658.0   \n",
       "806   2023-07      MD         Maryland      RES  residential  2428046.0   \n",
       "1153  2023-06      MD         Maryland      RES  residential  2427170.0   \n",
       "1786  2023-05      MD         Maryland      RES  residential  2426004.0   \n",
       "2083  2023-04      MD         Maryland      RES  residential  2425944.0   \n",
       "2578  2023-03      MD         Maryland      RES  residential  2426467.0   \n",
       "2936  2023-02      MD         Maryland      RES  residential  2423960.0   \n",
       "3270  2023-01      MD         Maryland      RES  residential  2421516.0   \n",
       "3656  2022-12      MD         Maryland      RES  residential  2424156.0   \n",
       "3918  2022-11      MD         Maryland      RES  residential  2423091.0   \n",
       "4311  2022-10      MD         Maryland      RES  residential  2420843.0   \n",
       "4695  2022-09      MD         Maryland      RES  residential  2418685.0   \n",
       "\n",
       "      price    revenue       sales      customers-units  \\\n",
       "0     16.96  375.82097  2215.58311  number of customers   \n",
       "663   16.35  431.98451  2642.54595  number of customers   \n",
       "806   16.03  463.06933  2887.89109  number of customers   \n",
       "1153  16.99  334.54401  1969.06761  number of customers   \n",
       "1786  16.08  267.50220  1663.98981  number of customers   \n",
       "2083  15.91  274.87139  1727.16111  number of customers   \n",
       "2578  15.85  348.56671  2199.67197  number of customers   \n",
       "2936  16.21  357.64479  2206.17096  number of customers   \n",
       "3270  15.97  401.98277  2516.41400  number of customers   \n",
       "3656  15.53  436.30499  2809.69318  number of customers   \n",
       "3918  15.37  299.52767  1948.47268  number of customers   \n",
       "4311  15.84  271.01551  1711.10053  number of customers   \n",
       "4695  14.55  299.98256  2061.56355  number of customers   \n",
       "\n",
       "                 price-units    revenue-units            sales-units  \n",
       "0     cents per kilowatthour  million dollars  million kilowatthours  \n",
       "663   cents per kilowatthour  million dollars  million kilowatthours  \n",
       "806   cents per kilowatthour  million dollars  million kilowatthours  \n",
       "1153  cents per kilowatthour  million dollars  million kilowatthours  \n",
       "1786  cents per kilowatthour  million dollars  million kilowatthours  \n",
       "2083  cents per kilowatthour  million dollars  million kilowatthours  \n",
       "2578  cents per kilowatthour  million dollars  million kilowatthours  \n",
       "2936  cents per kilowatthour  million dollars  million kilowatthours  \n",
       "3270  cents per kilowatthour  million dollars  million kilowatthours  \n",
       "3656  cents per kilowatthour  million dollars  million kilowatthours  \n",
       "3918  cents per kilowatthour  million dollars  million kilowatthours  \n",
       "4311  cents per kilowatthour  million dollars  million kilowatthours  \n",
       "4695  cents per kilowatthour  million dollars  million kilowatthours  "
      ]
     },
     "execution_count": 76,
     "metadata": {},
     "output_type": "execute_result"
    }
   ],
   "source": [
    "df[(df['stateid']=='MD') & (df['sectorid']=='RES')]"
   ]
  },
  {
   "cell_type": "code",
   "execution_count": 77,
   "metadata": {},
   "outputs": [
    {
     "data": {
      "text/plain": [
       "sales-units\n",
       "million kilowatthours    5000\n",
       "Name: count, dtype: int64"
      ]
     },
     "execution_count": 77,
     "metadata": {},
     "output_type": "execute_result"
    }
   ],
   "source": [
    "df['sales-units'].value_counts()"
   ]
  },
  {
   "cell_type": "code",
   "execution_count": 78,
   "metadata": {},
   "outputs": [],
   "source": [
    "def separate_dimensionality(df):\n",
    "    frame = df.copy()\n",
    "    frame = frame.drop(['customers-units', 'price-units', 'revenue-units', 'sales-units'], axis=1)\n",
    "    metrics = df[['customers-units', 'price-units', 'revenue-units', 'sales-units']]\n",
    "    metrics = metrics.head(1).to_dict(orient='records')[0]\n",
    "    return metrics, frame\n",
    "    "
   ]
  },
  {
   "cell_type": "code",
   "execution_count": 79,
   "metadata": {},
   "outputs": [],
   "source": [
    "metrics, df = separate_dimensionality(df)"
   ]
  },
  {
   "cell_type": "code",
   "execution_count": 81,
   "metadata": {},
   "outputs": [
    {
     "data": {
      "text/plain": [
       "{'customers-units': 'number of customers',\n",
       " 'price-units': 'cents per kilowatthour',\n",
       " 'revenue-units': 'million dollars',\n",
       " 'sales-units': 'million kilowatthours'}"
      ]
     },
     "execution_count": 81,
     "metadata": {},
     "output_type": "execute_result"
    }
   ],
   "source": [
    "metrics"
   ]
  },
  {
   "cell_type": "code",
   "execution_count": null,
   "metadata": {},
   "outputs": [],
   "source": []
  },
  {
   "cell_type": "code",
   "execution_count": null,
   "metadata": {},
   "outputs": [],
   "source": []
  },
  {
   "cell_type": "code",
   "execution_count": null,
   "metadata": {},
   "outputs": [],
   "source": []
  },
  {
   "cell_type": "code",
   "execution_count": null,
   "metadata": {},
   "outputs": [],
   "source": []
  },
  {
   "cell_type": "code",
   "execution_count": null,
   "metadata": {},
   "outputs": [],
   "source": []
  },
  {
   "cell_type": "code",
   "execution_count": null,
   "metadata": {},
   "outputs": [],
   "source": []
  },
  {
   "cell_type": "code",
   "execution_count": null,
   "metadata": {},
   "outputs": [],
   "source": []
  },
  {
   "cell_type": "code",
   "execution_count": null,
   "metadata": {},
   "outputs": [],
   "source": []
  },
  {
   "cell_type": "code",
   "execution_count": null,
   "metadata": {},
   "outputs": [],
   "source": []
  },
  {
   "cell_type": "code",
   "execution_count": null,
   "metadata": {},
   "outputs": [],
   "source": []
  },
  {
   "cell_type": "code",
   "execution_count": null,
   "metadata": {},
   "outputs": [],
   "source": []
  },
  {
   "cell_type": "code",
   "execution_count": null,
   "metadata": {},
   "outputs": [],
   "source": []
  },
  {
   "cell_type": "code",
   "execution_count": null,
   "metadata": {},
   "outputs": [],
   "source": []
  },
  {
   "cell_type": "code",
   "execution_count": null,
   "metadata": {},
   "outputs": [],
   "source": []
  },
  {
   "cell_type": "code",
   "execution_count": null,
   "metadata": {},
   "outputs": [],
   "source": []
  },
  {
   "cell_type": "code",
   "execution_count": null,
   "metadata": {},
   "outputs": [],
   "source": []
  },
  {
   "cell_type": "code",
   "execution_count": null,
   "metadata": {},
   "outputs": [],
   "source": []
  },
  {
   "cell_type": "code",
   "execution_count": null,
   "metadata": {},
   "outputs": [],
   "source": []
  },
  {
   "cell_type": "code",
   "execution_count": null,
   "metadata": {},
   "outputs": [],
   "source": []
  },
  {
   "cell_type": "code",
   "execution_count": null,
   "metadata": {},
   "outputs": [],
   "source": []
  },
  {
   "cell_type": "code",
   "execution_count": null,
   "metadata": {},
   "outputs": [],
   "source": []
  },
  {
   "cell_type": "code",
   "execution_count": null,
   "metadata": {},
   "outputs": [],
   "source": []
  },
  {
   "cell_type": "code",
   "execution_count": null,
   "metadata": {},
   "outputs": [],
   "source": []
  }
 ],
 "metadata": {
  "kernelspec": {
   "display_name": "Python 3",
   "language": "python",
   "name": "python3"
  },
  "language_info": {
   "codemirror_mode": {
    "name": "ipython",
    "version": 3
   },
   "file_extension": ".py",
   "mimetype": "text/x-python",
   "name": "python",
   "nbconvert_exporter": "python",
   "pygments_lexer": "ipython3",
   "version": "3.10.12"
  },
  "orig_nbformat": 4
 },
 "nbformat": 4,
 "nbformat_minor": 2
}
